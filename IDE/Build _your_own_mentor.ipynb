{
 "cells": [
  {
   "attachments": {},
   "cell_type": "markdown",
   "metadata": {},
   "source": [
    "# Custom Dyslexia Mentor \n",
    "\n",
    "This document demonstrates how to build a custom mentor for dyslexic students using the openai API\n",
    "\n",
    "input: Text written by dyslexic writer\n",
    "\n",
    "outputs: \n",
    "* corrected version\n",
    "* version for editing within OneNote\n",
    "* version highlighting specific word types (e.g. nouns)\n",
    "* table sorting each word from the input text into one of the following categories: stopwords, easy words, advanced words\n",
    "* code for generating flashcards with vocabulary derived from self-written texts\n",
    "* translation of corrected text\n",
    "* code for generating flashcards for language learning\n",
    "\n",
    "What you will need:\n",
    "* a google family account\n",
    "* openai web API key\n",
    "* ChatGPT preferably Plus version using GPT4\n",
    "* Microsoft Family account\n",
    "* Microsoft OneNote Desktop\n",
    "\n",
    "Within google colab create the following files:\n",
    "* create .env file with openai key\n",
    "* create file with prompt functions\n",
    "* create one file where to apply the prompt functions. (Invite student to this file)\n",
    "\n",
    "Optional: Create Streamlit app where to apply the prompt functions\n",
    "* what you will need\n",
    "* a Streamlit app account\n",
    "* a GitHub account\n",
    "* openai web API key"
   ]
  },
  {
   "attachments": {},
   "cell_type": "markdown",
   "metadata": {},
   "source": []
  }
 ],
 "metadata": {
  "language_info": {
   "name": "python"
  },
  "orig_nbformat": 4
 },
 "nbformat": 4,
 "nbformat_minor": 2
}
