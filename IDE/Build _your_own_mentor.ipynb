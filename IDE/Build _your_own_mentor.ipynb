{
 "cells": [
  {
   "attachments": {},
   "cell_type": "markdown",
   "metadata": {},
   "source": [
    "# Custom Dyslexia Mentor \n",
    "\n",
    "Using the openai API this document demonstrates how parents can build a custom GPT corrector and mentor for their dyslexic children, their teachers and therapists. This mentor creates an accessible working environment when used together with Microsoft OneNote. Besides text correction this mentor also offers translations for foreign lanuage learning. \n",
    "\n",
    "1) Google Colab\n",
    "\n",
    "Idea: \n",
    "* create a supervised GPT working environment for students, teachers and therapists \n",
    "* collaborate with student, teachers and therapists while using only a single API key and avoiding ChatGPT\n",
    "* set up a google colab document which can be accessed via email adress or google account\n",
    "* Include accessibilty features like speach-to-text in document\n",
    "\n",
    "Input of colab document: Text written by dyslexic student\n",
    "\n",
    "outputs: \n",
    "* corrected version of text\n",
    "* corrected version for easy editing within Microsoft OneNote (Code based)\n",
    "* corrected version for easy editing within Microsoft OneNote (Color coded)\n",
    "* corrected version highlighting specific word types (e.g. nouns) (color coded)\n",
    "* table sorting each word from the corrected version into one of the following categories: stopwords, easy words, advanced words\n",
    "* code for generating 3 piles of flashcards from the table (stopwords, easy words, advanced words)\n",
    "* table sorting each word from the corrected version by word type\n",
    "* code for generating one pile of flashcards for each word type found within the corrected version of the text\n",
    "* translation of corrected text\n",
    "* table sorting each word from the translation into one of the following categories: stopwords, easy words, advanced words\n",
    "* code for generating 3 piles of flashcards from the table (stopwords, easy words, advanced words)\n",
    "* translation highlighting specific word types (e.g. nouns) (color coded)\n",
    "* table sorting each word from the translation by word type\n",
    "* code for generating one pile of flashcards for each word type found within the translation of the text\n",
    "\n",
    "What you will need:\n",
    "* ChatGPT preferably Plus version using GPT4\n",
    "* a google account (family or school account)\n",
    "* openai web API key\n",
    "* Microsoft account (Family or school account, ideally 365)\n",
    "* Microsoft OneNote Desktop\n",
    "\n",
    "Within google colab create the following files:\n",
    "* create .env file with openai key\n",
    "* create file with prompt functions\n",
    "* create one file where to apply the prompt functions. (Invite student, teachers, therapists to this file)\n",
    "\n",
    "2) Streamlit App\n",
    "Idea: Build an app where to run the functions\n",
    "what you will need:\n",
    "* all of the above\n",
    "* a Streamlit app account\n",
    "* a GitHub account"
   ]
  },
  {
   "attachments": {},
   "cell_type": "markdown",
   "metadata": {},
   "source": []
  }
 ],
 "metadata": {
  "language_info": {
   "name": "python"
  },
  "orig_nbformat": 4
 },
 "nbformat": 4,
 "nbformat_minor": 2
}
