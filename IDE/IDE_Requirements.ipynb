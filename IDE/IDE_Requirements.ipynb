{
 "cells": [
  {
   "attachments": {},
   "cell_type": "markdown",
   "metadata": {},
   "source": [
    "# IDE Requirements for Dyslexic students\n",
    "\n",
    "* adujstable display settings and fonts\n",
    "* screen reader\n",
    "* camera with OCR functionality including handwriting recognition\n",
    "* combined text-to-speech and speech to text editor (dictation)\n",
    "* spell checker\n",
    "* GPT supported text correction and processing\n",
    "* GPT based generation of study material e.g. flashcards\n",
    "* Flaschcard app with spaced repitition"
   ]
  },
  {
   "attachments": {},
   "cell_type": "markdown",
   "metadata": {},
   "source": []
  }
 ],
 "metadata": {
  "language_info": {
   "name": "python"
  },
  "orig_nbformat": 4
 },
 "nbformat": 4,
 "nbformat_minor": 2
}
