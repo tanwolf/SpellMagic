{
 "cells": [
  {
   "attachments": {},
   "cell_type": "markdown",
   "metadata": {},
   "source": [
    "# IDE Requirements for Dyslexic students\n",
    "\n",
    "* Camera with OCR functionality including handwriting recognition\n",
    "* Combined text-to-speech and speech to text editor (dictation)\n",
    "* spell checker\n",
    "* GPT supported text correction and processing\n",
    "* Flashcard generator\n",
    "* Flaschcard app with spaced repitition\n",
    "* Special fonts for dyslexic readers"
   ]
  },
  {
   "attachments": {},
   "cell_type": "markdown",
   "metadata": {},
   "source": []
  }
 ],
 "metadata": {
  "language_info": {
   "name": "python"
  },
  "orig_nbformat": 4
 },
 "nbformat": 4,
 "nbformat_minor": 2
}
