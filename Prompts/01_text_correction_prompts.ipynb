{
 "cells": [
  {
   "attachments": {},
   "cell_type": "markdown",
   "metadata": {},
   "source": [
    "# Basic Text Correction Prompts for Dyslexic Writers"
   ]
  },
  {
   "attachments": {},
   "cell_type": "markdown",
   "metadata": {},
   "source": [
    "**Text correction using ChatGPT and Microsoft OneNote:**\n",
    "\n",
    "_Background:_ \n",
    "Correcting texts using ChatGPT's is more efficient for dyslexic writers than a spell check alone. Combining ChatGPT with Microsoft OneNoe Notebook creates an accessible work environment which includes a screen reader, a dictation tool, a spell checker and much more. The notebook structure also allows to organize the text and the writing process itself efficiently. Note: The paid ChatGPTPlus version uses GPT4 instead of GPT3,5. Text correction within GPT4 is even more accurate than within GPT3,5.\n",
    "\n",
    "_Method:_\n",
    "Open a new notebook for your writing assignment or a new note within an existing notebook. Paste or write the text you would like to correct at the top of the note. Open a new chat in ChatGPT. Copy paste the prompt below into ChatGPT followed by the text you want to correct:\n",
    "\n",
    "_First Prompt:_ Correct the text below. Then print the original and the corrected versions line by line. Start with the first line of the original version followed by the first line of the corrected version and so forth. Include an empty paragraph between each pair of original and corrected lines. Print the corrected version within square brackets, and without any additional space between the original and the corrected version:\n",
    "\n",
    "_Editing:_ Copy paste ChatGPTs responses into your note as unformatted text. This will allow you to format your final text at will. Compare your original version and the corrected version. The corrected version is printed within square brackets and double quotation mark. If you want to edit the corrected version write a new line under the corrected version. Put this line into parentheses and double quotation mark. You can use OneNotes spell checker, immersive reader and dictation tool to help you with the editing process. If you use the dictation tool make sure to put parentheses and double quotation mark around your final text. Once you insert edited text within parentheses and double quotation mark the corrected version within the square brackets will be disregarded for further editing. \n",
    "\n",
    "Editing Example:\n",
    "Original version: \"Did you knwo abuot diosrsaus?\"\n",
    "ChatGPT correction: [\"Did you know about dinosaurs?\"]\n",
    "User edited version: (\"Did you know about DINOSAURS?????????????\")\n",
    "\n",
    "Once you finish the editing copy and paste all versions back into ChatGPT and include the prompt below:\n",
    "\n",
    "_Second Prompt:_\n",
    "Turn the text inside the square brackets delimited by double quotation marks into a single text. In case you encounter a text in parentheses delimited by double quotation marks which is located under a text in square brackets delimited by double quotation mark print the text within the parentheses instead of the text within square brackets. Your response should be formatted as follows. Print the final text by merging the lines into paragraphs. Within the final text insert correction advice within curly braces after each word or each sentence which needs correction. If you find a string within parentheses delimited by double quotation marks which does not make sense to you insert {This does not seem to be correct.} within curly braces. If you find text within sqaured brackets that needs correction put no text in parentheses delimited by double quotation marks under the respective text in square brackets print the text within square brackets and add correction advise within curly braces. Do not print anything but the final text and the advice within curly braces. Do not print the final text within quotation marks to indicate a string:\n",
    "\n",
    "This will return your final text including correction advise within curly braces. Copy and paste this text back into OneNote for final editing. Remove the correction advice within curly braces. You can search for curly braces by pressing CTRl + F and inserting { . \n",
    "\n",
    "\n",
    "\n",
    "\n",
    "\n",
    "\n",
    "\n",
    "\n",
    "\n",
    "\n",
    "\n",
    "\n",
    "\n"
   ]
  },
  {
   "cell_type": "markdown",
   "metadata": {},
   "source": []
  }
 ],
 "metadata": {
  "language_info": {
   "name": "python"
  },
  "orig_nbformat": 4
 },
 "nbformat": 4,
 "nbformat_minor": 2
}
