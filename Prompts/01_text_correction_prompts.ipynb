{
 "cells": [
  {
   "attachments": {},
   "cell_type": "markdown",
   "metadata": {},
   "source": [
    "# Basic Text Correction and Editing Prompts for Dyslexic Writers"
   ]
  },
  {
   "attachments": {},
   "cell_type": "markdown",
   "metadata": {},
   "source": [
    "## 1.) ChatGPT and Microsoft OneNote:\n",
    "\n",
    "_Background:_ \n",
    "Correcting texts using ChatGPT is more efficient for dyslexic writers than a spell check alone. Combining ChatGPT with Microsoft OneNoe Notebook creates an accessible work environment which includes a screen reader, a dictation tool, a spell checker and much more. The notebook structure also allows to organize the text and the writing process itself efficiently. Parents and caretakers: Do not let your child use ChatGPT unsupervised. Learning how to use it responsibly takes time, practice and guidance. Consider creating a custom bot using the openAI API for your child. I will explain how to do this in another notebook. Also, when working with ChatGPT make sure to never paste confidential data into the bot.\n",
    "\n",
    "Note: The paid ChatGPTPlus version uses GPT4 instead of GPT3,5. Text correction within GPT4 is even more accurate than within GPT3,5."
   ]
  },
  {
   "attachments": {},
   "cell_type": "markdown",
   "metadata": {},
   "source": [
    "### Method:\n",
    "* Open a new chat in ChatGPT\n",
    "* Open a new notebook in Microsoft OneNote or a new note within an existing notebook\n",
    "* On the top of the OneNote note write or paste the text you would like to correct\n",
    "* Copy paste the prompt below into ChatGPT followed by the text you want to correct. I have inserted an example text."
   ]
  },
  {
   "attachments": {},
   "cell_type": "markdown",
   "metadata": {},
   "source": [
    "_First Prompt:_ \n",
    "\n",
    "Correct the text below after the colon.  \n",
    "\n",
    "Split the sentences of the original and the corrected version after each punctuation mark such as full-stop, question or exclamation mark. Then print out each sentence individually, one sentences per line. Start with the first sentence of the original version followed by the first sentence of the corrected version in the next line and so forth. Do not print more than one sentence per line. Include an empty paragraph between each pair of original and corrected sentences. Do not insert a paragraph between the original and the corrected version.\n",
    "\n",
    "Format the lines in the following way: Print the original version delimited by quotation marks. Print the corrected version within square brackets delimited by double quotation marks. Then add a third line under each of the sentences in square brackets. This line also contains the corrected version put in parentheses delimited by double quotation mark. \n",
    "\n",
    "This is the text to be corrected:\n",
    "\n",
    "Did you knwo abuot diosrsaus? Thy were bgig and stronmng anaimls tht livde a lont, lont tmie ago, eevn bfore my grt-granadma ws bron!\n",
    "\n",
    "Thre wer mny knids of dinosrs, lkie the T-Rex or Tyrnnaosarurs Rex. T-rex was a carvneior, whihc mesans he ate oterh dios. He had a hge had and vrey shtor amrs. I tink thta’s fnnuy!\n",
    "\n",
    "Tenh treh was the Trceraotps. He was a herbborie, which menas he ate plnts, not oterh dins. He had a big haerd pltae and tree hrorns on his haed. He culd fgit the T-rex!\n",
    "\n",
    "And dnot fgoert the bigst of them all, the Argntinosaurs! He was a logn ncek dino. I cnat eevn imigne how bg he was, lgioner tahn my shocol bus!\n",
    "\n",
    "But nto all dins wre big. Smoe were saml like chiensk. Can yuo imagn a chckn dinsoaur? Thats wtah Velcriaptor was, but he had shrp teht and was sper fts!\n",
    "\n",
    "Dinosuas are gon now, thy wet exntcit. Sciinstts thik a bg metero hit the ehrt and mad them all de. Thats sd, but thaknflly we have fosss. Paleontloistg stud thse fosisl to lern more abtu dins. It's lke they're dtcives of the pst.\n",
    "\n",
    "So, eevn tough dino aren't aond toady, thy're stlil vrey col to lern abtou. I wsih I culd se one in rael lfe!"
   ]
  },
  {
   "attachments": {},
   "cell_type": "markdown",
   "metadata": {},
   "source": [
    "<img src=\"Images/response_first_prompt.png\" width=500>"
   ]
  },
  {
   "attachments": {},
   "cell_type": "markdown",
   "metadata": {},
   "source": [
    "*The response of the prompt should look something like this:*\n",
    "\n",
    "\"Did you knwo abuot diosrsaus?\"\n",
    "[\"Did you know about dinosaurs?\"]\n",
    "(Did you know about dinosaurs?)\n",
    "\n",
    "\"Thy were bgig and stronmng anaimls tht livde a lont, lont tmie ago, eevn bfore my grt-granadma ws bron!\"\n",
    "[\"They were big and strong animals that lived a long, long time ago, even before my great-grandma was born!\"]\n",
    "(They were big and strong animals that lived a long, long time ago, even before my great-grandma was born!)\n",
    "\n",
    "\"Thre wer mny knids of dinosrs, lkie the T-Rex or Tyrnnaosarurs Rex.\"\n",
    "[\"There were many kinds of dinosaurs, like the T-Rex or Tyrannosaurus Rex.\"]\n",
    "(There were many kinds of dinosaurs, like the T-Rex or Tyrannosaurus Rex.)\n",
    "\n",
    "\"T-rex was a carvneior, whihc mesans he ate oterh dios.\"\n",
    "[\"T-rex was a carnivore, which means he ate other dinosaurs.\"]\n",
    "(T-rex was a carnivore, which means he ate other dinosaurs.)\n",
    "\n",
    "\"He had a hge had and vrey shtor amrs.\"\n",
    "[\"He had a huge head and very short arms.\"]\n",
    "(He had a huge head and very short arms.)\n",
    "\n",
    "\"I tink thta’s fnnuy!\"\n",
    "[\"I think that's funny!\"]\n",
    "(I think that's funny!)\n",
    "\n",
    "\"Tenh treh was the Trceraotps.\"\n",
    "[\"Then there was the Triceratops.\"]\n",
    "(Then there was the Triceratops.)\n",
    "\n",
    "\"He was a herbborie, which menas he ate plnts, not oterh dins.\"\n",
    "[\"He was a herbivore, which means he ate plants, not other dinosaurs.\"]\n",
    "(He was a herbivore, which means he ate plants, not other dinosaurs.)\n",
    "\n",
    "\"He had a big haerd pltae and tree hrorns on his haed.\"\n",
    "[\"He had a big head plate and three horns on his head.\"]\n",
    "(He had a big head plate and three horns on his head.)\n",
    "\n",
    "\"He culd fgit the T-rex!\"\n",
    "[\"He could fight the T-rex!\"]\n",
    "(He could fight the T-rex!)\n",
    "\n",
    "\"And dnot fgoert the bigst of them all, the Argntinosaurs!\"\n",
    "[\"And don't forget the biggest of them all, the Argentinosaurus!\"]\n",
    "(And don't forget the biggest of them all, the Argentinosaurus!)\n",
    "\n",
    "\"He was a logn ncek dino.\"\n",
    "[\"He was a long-necked dino.\"]\n",
    "(He was a long-necked dino.)\n",
    "\n",
    "\"I cnat eevn imigne how bg he was, lgioner tahn my shocol bus!\"\n",
    "[\"I can't even imagine how big he was, longer than my school bus!\"]\n",
    "(I can't even imagine how big he was, longer than my school bus!)\n",
    "\n",
    "\"But nto all dins wre big.\"\n",
    "[\"But not all dinos were big.\"]\n",
    "(But not all dinos were big.)\n",
    "\n",
    "\"Smoe were saml like chiensk.\"\n",
    "[\"Some were small like chickens.\"]\n",
    "(Some were small like chickens.)\n",
    "\n",
    "\"Can yuo imagn a chckn dinsoaur?\"\n",
    "[\"Can you imagine a chicken dinosaur?\"]\n",
    "(Can you imagine a chicken dinosaur?)\n",
    "\n",
    "\"Thats wtah Velcriaptor was, but he had shrp teht and was sper fts!\"\n",
    "[\"That's what Velociraptor was, but he had sharp teeth and was super fast!\"]\n",
    "(That's what Velociraptor was, but he had sharp teeth and was super fast!)\n",
    "\n",
    "\"Dinosuas are gon now, thy wet exntcit.\"\n",
    "[\"Dinosaurs are gone now, they went extinct.\"]\n",
    "(Dinosaurs are gone now, they went extinct.)\n",
    "\n",
    "\"Sciinstts thik a bg metero hit the ehrt and mad them all de.\"\n",
    "[\"Scientists think a big meteor hit the earth and made them all die.\"]\n",
    "(Scientists think a big meteor hit the earth and made them all die.)\n",
    "\n",
    "\"Thats sd, but thaknflly we have fosss.\"\n",
    "[\"That's sad, but thankfully we have fossils.\"]\n",
    "(That's sad, but thankfully we have fossils.)\n",
    "\n",
    "\"Paleontloistg stud thse fosisl to lern more abtu dins.\"\n",
    "[\"Paleontologists study these fossils to learn more about dinos.\"]\n",
    "(Paleontologists study these fossils to learn more about dinos.)\n",
    "\n",
    "\"It's lke they're dtcives of the pst.\"\n",
    "[\"It's like they're detectives of the past.\"]\n",
    "(It's like they're detectives of the past.)\n",
    "\n",
    "\"So, eevn tough dino aren't aond toady, thy're stlil vrey col to lern abtou.\"\n",
    "[\"So, even though dinos aren't around today, they're still very cool to learn about.\"]\n",
    "(So, even though dinos aren't around today, they're still very cool to learn about.)\n",
    "\n",
    "\"I wsih I culd se one in rael lfe!\"\n",
    "[\"I wish I could see one in real life!\"]\n",
    "(I wish I could see one in real life!)\n",
    "\n"
   ]
  },
  {
   "attachments": {},
   "cell_type": "markdown",
   "metadata": {},
   "source": [
    "_Editing:_ Copy paste ChatGPTs response into your notebook as unformatted text. This will allow you to format your final text at will. Compare your original version and the corrected version. The corrected version is printed within square brackets and double quotation mark. Do not edit the version in square brackets. If you want to edit the text, edit the version in parentheses. This version is the same as the one in square brackets. If you edit the version in parentheses the edits will be regarded in the final version of the text. You can use OneNotes spell checker, immersive reader and dictation tool to help you with the editing process. If you use the dictation tool make sure to place the cursor within the parentheses. \n",
    "\n",
    "Editing Example:\n",
    "Original version: \"Did you knwo abuot diosrsaus?\"\n",
    "ChatGPT correction: [\"Did you know about dinosaurs?\"]\n",
    "User edited version: (\"Did you know about DINOSAURS?????????????\")\n",
    "\n",
    "Once you finish the editing, copy and paste the prompt below into ChatGPT and then copy and paste all versions from your notebook under the prompt. \n",
    "\n",
    "\n",
    "\n",
    "\n"
   ]
  },
  {
   "attachments": {},
   "cell_type": "markdown",
   "metadata": {},
   "source": [
    "_Second Prompt:_\n",
    "Disregard the sentences delimited only by double quotation marks.\n",
    "Disregard the sentences delimited by squared brackets and double quotation marks. \n",
    "Regard only the sentences demilited by parentheses and double quotation mark. \n",
    "\n",
    "Merge the sentences inside parentheses delimited by double quotation marks into a single text. \n",
    "Correct this final text. \n",
    "Indicate any corrections you made by placing curly braces right after the corrected word or sentence. \n",
    "Within these curly braces indicate the changes you made. \n",
    "If you do not know how to correct a word print \"This does not seem to be correct\" within curly braces. \n",
    "If you do not find any errors do not state {No corrections needed}. \n",
    "Once the text is corrected edit the it by inserting paragraphs into the text where needed.\n",
    "The final text will be a nicely formatted text including curly braces within the paragraphs. \n",
    "In your response print nothing but the final text and eventual curly braces. \n",
    "In your response print, final text and eventual curly braces. \n",
    "This final text will be run within a jupyter notebook. Include import statements and add HTML tags around the curly braces to print them in blue. Also include HTML tags to indicate the parapraphs. \n",
    "Do not print the final text within quotation marks to indicate a string:\n"
   ]
  },
  {
   "attachments": {},
   "cell_type": "markdown",
   "metadata": {},
   "source": [
    "This will return your final text including correction advise within curly braces. Copy and paste this text back into OneNote for final editing. Remove the correction advice within curly braces. You can search for curly braces by pressing CTRl + F and inserting { . \n"
   ]
  },
  {
   "attachments": {},
   "cell_type": "markdown",
   "metadata": {},
   "source": [
    "# Text correction using ChatGPT, google colaboratory and Microsoft OneNote:"
   ]
  },
  {
   "attachments": {},
   "cell_type": "markdown",
   "metadata": {},
   "source": [
    "\n",
    "**Prompts for Working in Conjunction with Google Colab:**\n",
    "\n",
    "* Correct this text. Then print the original and the corrected versions line by line. Start with the first line of the original version followed by the first line of the corrected version and so forth. Include the following html tags: The original version shall be printed in blue, the corrected version printed in black.\n",
    "* Define each word type within this text. Define one color per type. Pront each woord within html tags which will print the word in the color of the word type. Under the printed text stat which color is which word type. "
   ]
  }
 ],
 "metadata": {
  "kernelspec": {
   "display_name": "Python 3",
   "language": "python",
   "name": "python3"
  },
  "language_info": {
   "codemirror_mode": {
    "name": "ipython",
    "version": 3
   },
   "file_extension": ".py",
   "mimetype": "text/x-python",
   "name": "python",
   "nbconvert_exporter": "python",
   "pygments_lexer": "ipython3",
   "version": "3.10.8"
  },
  "orig_nbformat": 4
 },
 "nbformat": 4,
 "nbformat_minor": 2
}
