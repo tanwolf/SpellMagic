{
 "cells": [
  {
   "attachments": {},
   "cell_type": "markdown",
   "metadata": {},
   "source": [
    "# Basic Text Correction Prompts for Dyslexic Writers"
   ]
  },
  {
   "attachments": {},
   "cell_type": "markdown",
   "metadata": {},
   "source": [
    "**Text correction using ChatGPT and Microsoft OneNote:**\n",
    "\n",
    "_Background:_ \n",
    "Correcting texts using ChatGPT is more efficient for dyslexic writers than a spell check alone. Combining ChatGPT with Microsoft OneNoe Notebook creates an accessible work environment which includes a screen reader, a dictation tool, a spell checker and much more. The notebook structure also allows to organize the text and the writing process itself efficiently. Children, however, should not have unsupervised access to ChatGPT as responsible usage of the chatbot takes time, practice and guidance. When working with ChatGPT make sure to never paste confidential data or knowledge in to the bot.\n",
    "\n",
    "Note: The paid ChatGPTPlus version uses GPT4 instead of GPT3,5. Text correction within GPT4 is even more accurate than within GPT3,5.\n",
    "\n",
    "_Method:_\n",
    "Open a new notebook in Microsoft OneNote or a new note within an existing notebook. Open the notebook within Microsoft OneNote Desktop. Once the notebook is set up, paste or write the text you would like to correct at the top of the note. Open your browser start a new chat in ChatGPT. Copy paste the prompt below into ChatGPT followed by the text you want to correct (the one in your notebook):\n",
    "\n",
    "_First Prompt:_ \n",
    "\n",
    "Correct the text below.  \n",
    "\n",
    "Split the sentences of the original and the corrected version after each punctuation mark such as full-stop, question or exclamation mark. Then print out each sentence individually, one sentences per line. Start with the first sentence of the original version followed by the first sentence of the corrected version in the next line and so forth. Do not print more than one sentence per line. Include an empty paragraph between each pair of original and corrected sentences. Do not insert a paragraph between the original and the corrected version.\n",
    "\n",
    "Format the lines in the following way: Print the original version delimited by quotation marks. Print the corrected version within square brackets delimited by double quotation marks. Then add a third line under each of the sentences in square brackets. This line also contains the corrected version put in parentheses delimited by double quotation mark. \n",
    "\n",
    "This is the text to be corrected: \n",
    "\n",
    "_Editing:_ Copy paste ChatGPTs responses into your notebook as unformatted text. This will allow you to format your final text at will. Compare your original version and the corrected version. The corrected version is printed within square brackets and double quotation mark. Do not edit the version in square brackets. If you want to edit the text, edit the version in parentheses. By default this version is the same as the one in square brackets. If you edit the version in parentheses the edits will be regarded in the final version of the text. You can use OneNotes spell checker, immersive reader and dictation tool to help you with the editing process. If you use the dictation tool make sure to place the cursor within the parentheses. \n",
    "\n",
    "Editing Example:\n",
    "Original version: \"Did you knwo abuot diosrsaus?\"\n",
    "ChatGPT correction: [\"Did you know about dinosaurs?\"]\n",
    "User edited version: (\"Did you know about DINOSAURS?????????????\")\n",
    "\n",
    "Once you finish the editing, copy and paste the prompt below into ChatGPT and then copy and paste all versions from your notebook under the prompt. \n",
    "\n",
    "_Second Prompt:_\n",
    "Disregard the sentences delimited only by double quotation marks as well as the sentences delimited by squared brackets and double quotation marks. \n",
    "Regard only the sentences demilited by parentheses and double quotation mark. \n",
    "\n",
    "Merge the sentences inside parentheses delimited by double quotation marks into a single text. \n",
    "Correct this final text. \n",
    "Indicate any correction you made right after the corrected word.\n",
    "Place this indication within curly braces. \n",
    "If you do not know how to correct a word print \"This does not seem to be correct\" within curly braces. \n",
    "If you find no errors simply pritn the version as is. Do not state {No corrections needed}. \n",
    "Format this text by inserting paragraphs where needed. \n",
    "Do not print anything but the final text and the indications within the curly braces. \n",
    "Do not print the final text within quotation marks to indicate a string:\n",
    "\n",
    "This will return your final text including correction advise within curly braces. Copy and paste this text back into OneNote for final editing. Remove the correction advice within curly braces. You can search for curly braces by pressing CTRl + F and inserting { . \n",
    "\n",
    "\n",
    "\n",
    "\n",
    "\n",
    "\n",
    "\n",
    "\n",
    "\n",
    "\n",
    "\n",
    "\n",
    "\n"
   ]
  },
  {
   "cell_type": "markdown",
   "metadata": {},
   "source": []
  }
 ],
 "metadata": {
  "language_info": {
   "name": "python"
  },
  "orig_nbformat": 4
 },
 "nbformat": 4,
 "nbformat_minor": 2
}
