{
 "cells": [
  {
   "attachments": {},
   "cell_type": "markdown",
   "metadata": {},
   "source": [
    "# Basic Text Correction and Editing Prompts for Dyslexic Writers"
   ]
  },
  {
   "attachments": {},
   "cell_type": "markdown",
   "metadata": {},
   "source": [
    "## 1.) ChatGPT and Microsoft OneNote:\n",
    "\n",
    "_Background:_ \n",
    "Correcting texts using ChatGPT is more efficient for dyslexic writers than a spell check alone. Combining ChatGPT with Microsoft OneNoe Notebook creates an accessible work environment which includes a screen reader, a dictation tool, a spell checker and much more. The notebook structure also allows to organize the text and the writing process itself efficiently. Parents and caretakers: Do not let your child use ChatGPT unsupervised. Learning how to use it responsibly takes time, practice and guidance. Consider creating a custom bot using the openAI API for your child. I will explain how to do this in another notebook. Also, when working with ChatGPT make sure to never paste confidential data into the bot.\n",
    "\n",
    "Note: The paid ChatGPTPlus version uses GPT4 instead of GPT3,5. Text correction within GPT4 is even more accurate than within GPT3,5."
   ]
  },
  {
   "attachments": {},
   "cell_type": "markdown",
   "metadata": {},
   "source": [
    "### a) Set up:\n",
    "* Open a new chat in ChatGPT. Use the bot for the prompts below. You can also ask the bot to correct the prompts if you should not receive the expected responses. In this case paste in the prompt, the response and the expected response. In addition, you can ask the bot for help in case you have troubles setting up or working in OneNote.\n",
    "* Open a new notebook in Microsoft OneNote or a new note within an existing notebook\n",
    "* On the top of the OneNote note write or paste the text you would like to correct\n",
    "* double click on the cell below and then copy paste the prompt below into ChatGPT followed by the text you want to correct. I have inserted an example text. "
   ]
  },
  {
   "attachments": {},
   "cell_type": "markdown",
   "metadata": {},
   "source": [
    "### b) First Prompt: Correction\n",
    "\n",
    "Please help me with a text correction task. Here’s how I’d like you to do it:\n",
    "\n",
    "* I will give you a text that has some errors in it.\n",
    "* I would like you to correct the errors in the text.\n",
    "* After correcting it, please split the text into sentences. A sentence ends with a period, question mark, or exclamation mark.\n",
    "* Then, show me each sentence from the original text, followed by the corrected sentence.\n",
    "* Make sure each sentence is on a new line.\n",
    "* Put the original sentence in quotation marks.\n",
    "* Put the corrected sentence in square brackets and also in quotation marks.\n",
    "* Under the corrected sentence, put the same corrected sentence but this time in round brackets and also in quotation marks.\n",
    "* Please leave an empty line between each pair of original and corrected sentences.\n",
    "* Don’t leave any empty lines between the original and corrected sentences though.\n",
    "\n",
    "Here’s an example:\n",
    "\n",
    "Original text: I has a cat.\n",
    "Corrected text: I have a cat.\n",
    "\n",
    "You would show it like this:\n",
    "\"I has a cat.\"\n",
    "[\"I have a cat.\"]\n",
    "(\"I have a cat.\")\n",
    "\n",
    "Here is the text to be corrected:\n",
    "\n",
    "Did you knwo abuot diosrsaus? Thy were bgig and stronmng anaimls tht livde a lont, lont tmie ago, eevn bfore my grt-granadma ws bron!\n",
    "\n",
    "Thre wer mny knids of dinosrs, lkie the T-Rex or Tyrnnaosarurs Rex. T-rex was a carvneior, whihc mesans he ate oterh dios. He had a hge had and vrey shtor amrs. I tink thta’s fnnuy!\n",
    "\n",
    "Tenh treh was the Trceraotps. He was a herbborie, which menas he ate plnts, not oterh dins. He had a big haerd pltae and tree hrorns on his haed. He culd fgit the T-rex!\n",
    "\n",
    "And dnot fgoert the bigst of them all, the Argntinosaurs! He was a logn ncek dino. I cnat eevn imigne how bg he was, lgioner tahn my shocol bus!\n",
    "\n",
    "But nto all dins wre big. Smoe were saml like chiensk. Can yuo imagn a chckn dinsoaur? Thats wtah Velcriaptor was, but he had shrp teht and was sper fts!\n",
    "\n",
    "Dinosuas are gon now, thy wet exntcit. Sciinstts thik a bg metero hit the ehrt and mad them all de. Thats sd, but thaknflly we have fosss. Paleontloistg stud thse fosisl to lern more abtu dins. It's lke they're dtcives of the pst.\n",
    "\n",
    "So, eevn tough dino aren't aond toady, thy're stlil vrey col to lern abtou. I wsih I culd se one in rael lfe!"
   ]
  },
  {
   "attachments": {},
   "cell_type": "markdown",
   "metadata": {},
   "source": [
    "**The response of the prompt should look something like this:**"
   ]
  },
  {
   "attachments": {},
   "cell_type": "markdown",
   "metadata": {},
   "source": [
    "<img src=\"Images/correction_prompt.PNG\" width=500>"
   ]
  },
  {
   "attachments": {},
   "cell_type": "markdown",
   "metadata": {},
   "source": [
    "Copy paste ChatGPTs response into your OneNote notebook under the original text. Paste as unformatted text by right clicking into the text field and then clicking the icon with \"A\". "
   ]
  },
  {
   "attachments": {},
   "cell_type": "markdown",
   "metadata": {},
   "source": [
    "<img src=\"Images/paste_text_into_onenote.png\" width=500>"
   ]
  },
  {
   "attachments": {},
   "cell_type": "markdown",
   "metadata": {},
   "source": [
    "### b) Editing: \n",
    "\n",
    "Change the font color of the sentences within round brackets e.g. into blue. Edit these sentences with the help of OneNote's spell checker, immersive reader, and/ or dictation tool. If you use the dictation tool make sure to place the cursor within the round brackets. The sentences within the round brackets will be regarded for the final version of your text."
   ]
  },
  {
   "attachments": {},
   "cell_type": "markdown",
   "metadata": {},
   "source": [
    "<img src=\"Images/edit_text.PNG\" width=500>"
   ]
  },
  {
   "attachments": {},
   "cell_type": "markdown",
   "metadata": {},
   "source": [
    "### c) Create Final Version\n",
    "\n",
    "Once you have finished editing the sentences in round brackets, copy and paste the prompt below into ChatGPT and then copy and paste all versions from your notebook under the prompt. "
   ]
  },
  {
   "attachments": {},
   "cell_type": "markdown",
   "metadata": {},
   "source": [
    "### d) Second Prompt: Final Version\n",
    "\n",
    "\n",
    "Disregard the sentences delimited only by double quotation marks.\n",
    "Disregard the sentences delimited by squared brackets and double quotation marks. \n",
    "Regard only the sentences demilited by parentheses and double quotation mark. \n",
    "\n",
    "Merge the sentences inside parentheses delimited by double quotation marks into a single text. \n",
    "Correct this final text. \n",
    "Indicate any corrections you made by placing curly braces right after the corrected word or sentence. \n",
    "Within these curly braces indicate the changes you made. \n",
    "If you do not know how to correct a word print \"This does not seem to be correct\" within curly braces. \n",
    "If you do not find any errors do not state {No corrections needed}. \n",
    "Once the text is corrected edit the it by inserting paragraphs into the text where needed.\n",
    "The final text will be a nicely formatted text including curly braces within the paragraphs. \n",
    "In your response print nothing but the final text and eventual curly braces. \n",
    "In your response print, final text and eventual curly braces. \n",
    "This final text will be run within a jupyter notebook. Include import statements and add HTML tags around the curly braces to print them in blue. Also include HTML tags to indicate the parapraphs. \n",
    "Do not print the final text within quotation marks to indicate a string:\n"
   ]
  },
  {
   "attachments": {},
   "cell_type": "markdown",
   "metadata": {},
   "source": [
    "This will return your final text including correction advise within curly braces. Copy and paste this text back into OneNote for final editing. Remove the correction advice within curly braces. You can search for curly braces by pressing CTRl + F and inserting { . \n"
   ]
  },
  {
   "attachments": {},
   "cell_type": "markdown",
   "metadata": {},
   "source": [
    "# Text correction using ChatGPT, google colaboratory and Microsoft OneNote:"
   ]
  },
  {
   "attachments": {},
   "cell_type": "markdown",
   "metadata": {},
   "source": [
    "\n",
    "**Prompts for Working in Conjunction with Google Colab:**\n",
    "\n",
    "* Correct this text. Then print the original and the corrected versions line by line. Start with the first line of the original version followed by the first line of the corrected version and so forth. Include the following html tags: The original version shall be printed in blue, the corrected version printed in black.\n",
    "* Define each word type within this text. Define one color per type. Pront each woord within html tags which will print the word in the color of the word type. Under the printed text stat which color is which word type. "
   ]
  }
 ],
 "metadata": {
  "kernelspec": {
   "display_name": "Python 3",
   "language": "python",
   "name": "python3"
  },
  "language_info": {
   "codemirror_mode": {
    "name": "ipython",
    "version": 3
   },
   "file_extension": ".py",
   "mimetype": "text/x-python",
   "name": "python",
   "nbconvert_exporter": "python",
   "pygments_lexer": "ipython3",
   "version": "3.10.8"
  },
  "orig_nbformat": 4
 },
 "nbformat": 4,
 "nbformat_minor": 2
}
