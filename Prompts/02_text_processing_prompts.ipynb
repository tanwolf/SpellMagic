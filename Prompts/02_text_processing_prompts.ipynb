{
 "cells": [
  {
   "attachments": {},
   "cell_type": "markdown",
   "metadata": {},
   "source": [
    "***Text processing:***\n",
    "* Correct the nouns in this text by placing them in square brackets:\n",
    "* Correct the verbs in this text by placing them in square brackets:\n",
    "* Correct the adjectives in this text by placing them in square brackets:\n",
    "* Correct the stopwords in this text by placing them in square brackets:\n",
    "\n",
    "* Translate this test into the following language: "
   ]
  }
 ],
 "metadata": {
  "language_info": {
   "name": "python"
  },
  "orig_nbformat": 4
 },
 "nbformat": 4,
 "nbformat_minor": 2
}
