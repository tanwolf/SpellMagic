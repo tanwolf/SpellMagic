{
 "cells": [
  {
   "attachments": {},
   "cell_type": "markdown",
   "metadata": {},
   "source": [
    "\n",
    "**Prompts for Working in Conjunction with Google Colab:**\n",
    "\n",
    "* Correct this text. Then print the original and the corrected versions line by line. Start with the first line of the original version followed by the first line of the corrected version and so forth. Include the following html tags: The original version shall be printed in blue, the corrected version printed in black.\n",
    "* Define each word type within this text. Define one color per type. Pront each woord within html tags which will print the word in the color of the word type. Under the printed text stat which color is which word type. "
   ]
  },
  {
   "cell_type": "markdown",
   "metadata": {},
   "source": []
  },
  {
   "cell_type": "markdown",
   "metadata": {},
   "source": []
  }
 ],
 "metadata": {
  "language_info": {
   "name": "python"
  },
  "orig_nbformat": 4
 },
 "nbformat": 4,
 "nbformat_minor": 2
}
